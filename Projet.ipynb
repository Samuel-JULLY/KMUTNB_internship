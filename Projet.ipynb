{
 "cells": [
  {
   "cell_type": "markdown",
   "id": "b168ace5",
   "metadata": {},
   "source": [
    "# To predict fault for manage the maintenance plan"
   ]
  }
 ],
 "metadata": {
  "language_info": {
   "name": "python"
  }
 },
 "nbformat": 4,
 "nbformat_minor": 5
}
