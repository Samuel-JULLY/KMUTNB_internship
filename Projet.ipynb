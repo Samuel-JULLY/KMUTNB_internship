{
 "cells": [
  {
   "cell_type": "markdown",
   "id": "b168ace5",
   "metadata": {},
   "source": [
    "# Forecasting Faults in Electrical System Equipment to predict fault for manage the maintenance plan"
   ]
  },
  {
   "cell_type": "markdown",
   "id": "0c91f61c",
   "metadata": {},
   "source": [
    "## 1. Filter and Clean Import/Export CSV Data from GitHub\n",
    "This script downloads a CSV file containing import/export trade data from a public GitHub repository.\n",
    "It cleans the data by stripping whitespace, filters out rows where the trade flow is equal to \"2\",\n",
    "and removes unnecessary columns. The cleaned and filtered data is then saved to a new CSV file\n",
    "for further analysis or reporting."
   ]
  },
  {
   "cell_type": "code",
   "execution_count": null,
   "id": "4b4a5c35",
   "metadata": {},
   "outputs": [],
   "source": [
    "import pandas as pd\n",
    "\n",
    "# This reads a CSV file from a GitHub URL.\n",
    "input_file = 'https://raw.githubusercontent.com/Samuel-JULLY/KMUTNB_internship/refs/heads/main/DATA/import_export.csv'\n",
    "df = pd.read_csv(input_file, sep=\";\", dtype=str)\n",
    "\n",
    "# This removes leading and trailing spaces from all string values in the DataFrame.\n",
    "df = df.applymap(lambda x: x.strip() if isinstance(x, str) else x)\n",
    "\n",
    "# Keeps only the rows where the value in the tradeflow column is not equal to \"2\"\n",
    "df_filtré = df[df[\"tradeflow\"] != \"2\"]\n",
    "\n",
    "# Removes the heading11 and ETL_DATE columns from the filtered DataFrame.\n",
    "df_filtré = df_filtré.drop('heading11', axis=1)\n",
    "df_filtré = df_filtré.drop('ETL_DATE', axis=1)\n",
    "\n",
    "# Saves the filtered data to a new CSV file inside a folder named RSLT/.\n",
    "output_file = 'RSLT/import_export_filtre.csv'\n",
    "df_filtré.to_csv(output_file, index=False,encoding=\"utf-8-sig\")\n",
    "\n",
    "# Displays the path to the saved file (in French: \"Filtered file saved as\").\n",
    "print(f\"Filtered file saved as: {output_file}\")"
   ]
  },
  {
   "cell_type": "markdown",
   "id": "449037de",
   "metadata": {},
   "source": []
  },
  {
   "cell_type": "code",
   "execution_count": null,
   "id": "a746bed3",
   "metadata": {},
   "outputs": [],
   "source": [
    "import pandas as pd\n",
    "\n",
    "# Charger le fichier .xlsx (feuille par défaut)\n",
    "df = pd.read_excel('DATA/stat_export2566.xlsx')  # tu peux ajouter sheet_name='NomDeLaFeuille' si nécessaire\n",
    "\n",
    "# Enregistrer en .csv\n",
    "df.to_csv('DATA/stat_export2566.csv', index=False,encoding=\"utf-8-sig\")  # index=False pour ne pas inclure la colonne d’index\n",
    "\n",
    "# Charger le fichier .xlsx (feuille par défaut)\n",
    "df = pd.read_excel('DATA/stat_export.xlsx')  # tu peux ajouter sheet_name='NomDeLaFeuille' si nécessaire\n",
    "\n",
    "# Enregistrer en .csv\n",
    "df.to_csv('DATA/stat_export.csv', index=False,encoding=\"utf-8-sig\")  # index=False pour ne pas inclure la colonne d’index\n",
    "\n",
    "# Charger le fichier .xlsx (feuille par défaut)\n",
    "df = pd.read_excel('DATA/import_export.xlsx')  # tu peux ajouter sheet_name='NomDeLaFeuille' si nécessaire\n",
    "\n",
    "# Enregistrer en .csv\n",
    "df.to_csv('DATA/import_export.csv', index=False,encoding=\"utf-8-sig\")  # index=False pour ne pas inclure la colonne d’index"
   ]
  },
  {
   "cell_type": "markdown",
   "id": "7c5869fb",
   "metadata": {},
   "source": []
  },
  {
   "cell_type": "code",
   "execution_count": null,
   "id": "cadc2217",
   "metadata": {},
   "outputs": [
    {
     "name": "stdout",
     "output_type": "stream",
     "text": [
      "Fusion terminée. Fichier : fusion_partielle.csv\n"
     ]
    }
   ],
   "source": [
    "import pandas as pd\n",
    "import os\n",
    "\n",
    "# Liste de fichiers à fusionner\n",
    "fichiers = [\"DATA\\import_export.csv\",\"DATA\\stat_export2566.csv\", \"DATA\\stat_export.csv\"]\n",
    "\n",
    "# Colonnes qu'on veut garder\n",
    "colonnes_utiles = [\"month\",\"year\",  \"countryNameTH\",\"productDetailTH\",\"productDetailEN\", \"weight\", \"price\"]\n",
    "\n",
    "# Liste pour stocker les DataFrames partiels\n",
    "liste_dfs = []\n",
    "\n",
    "for fichier in fichiers:\n",
    "    if os.path.exists(fichier):\n",
    "        # Lire le fichier\n",
    "        df = pd.read_csv(fichier )\n",
    "        \n",
    "        # Sélectionner uniquement les colonnes utiles (si elles existent)\n",
    "        colonnes_disponibles = [col for col in colonnes_utiles if col in df.columns]\n",
    "        df_filtre = df[colonnes_disponibles]\n",
    "\n",
    "        liste_dfs.append(df_filtre)\n",
    "    else:\n",
    "        print(f\"Fichier introuvable : {fichier}\")\n",
    "\n",
    "# Fusionner tous les morceaux\n",
    "df_final = pd.concat(liste_dfs, ignore_index=True)\n",
    "\n",
    "# Sauvegarder dans un nouveau fichier\n",
    "df_final.to_csv(\"fusion_partielle.csv\", index=False, encoding=\"utf-8\")\n",
    "\n",
    "print(\"Fusion terminée. Fichier : fusion_partielle.csv\")\n"
   ]
  },
  {
   "cell_type": "code",
   "execution_count": null,
   "id": "b4d6bb9a",
   "metadata": {},
   "outputs": [
    {
     "name": "stdout",
     "output_type": "stream",
     "text": [
      "RMSE: 592509.64\n"
     ]
    },
    {
     "data": {
      "image/png": "[encoded data removed]",
      "text/plain": [
       "<Figure size 640x480 with 1 Axes>"
      ]
     },
     "metadata": {},
     "output_type": "display_data"
    }
   ],
   "source": [
    "import pandas as pd\n",
    "from sklearn.linear_model import LinearRegression\n",
    "import matplotlib.pyplot as plt\n",
    "from sklearn.model_selection import train_test_split\n",
    "from sklearn.metrics import mean_squared_error\n",
    "import numpy as np\n",
    "\n",
    "# Charger les données\n",
    "df = pd.read_csv(\"RSLT/import_export_filtre.csv\")\n",
    "\n",
    "# Convertir la date en valeur numérique (ex: nombre de mois écoulés)\n",
    "df['month'] = pd.to_datetime(df['month'])\n",
    "df['month_num'] = (df['month'] - df['month'].min()).dt.days // 30\n",
    "\n",
    "# Définir X et y\n",
    "X = df[['month_num']]\n",
    "y = df['quantity']\n",
    "\n",
    "# Diviser les données\n",
    "X_train, X_test, y_train, y_test = train_test_split(X, y, test_size=0.2, shuffle=False)\n",
    "\n",
    "# Entraîner le modèle\n",
    "model = LinearRegression()\n",
    "model.fit(X_train, y_train)\n",
    "\n",
    "# Prédire\n",
    "y_pred = model.predict(X_test)\n",
    "\n",
    "# Évaluer\n",
    "from math import sqrt\n",
    "rmse = sqrt(mean_squared_error(y_test, y_pred))\n",
    "print(f\"RMSE: {rmse:.2f}\")\n",
    "\n",
    "# Affichage\n",
    "plt.plot(df['month'], y, label=\"Données réelles\")\n",
    "plt.plot(df['month'].iloc[y_test.index], y_pred, label=\"Prédiction\", linestyle=\"--\")\n",
    "plt.legend()\n",
    "plt.xlabel(\"Date\")\n",
    "plt.ylabel(\"Export Quantity\")\n",
    "plt.title(\"Prévision des exportations de poisson\")\n",
    "plt.xticks(rotation=45)\n",
    "plt.tight_layout()\n",
    "plt.show()"
   ]
  },
  {
   "cell_type": "markdown",
   "id": "9303341f",
   "metadata": {},
   "source": [
    "## 2. Classification Models\n",
    "\n",
    "We are testing several machine learning models:\n",
    "\n",
    "* Logistic Regression\n",
    "* Perceptron\n",
    "* SVM (Support Vector Machine)\n",
    "* Decision Trees\n",
    "* Random Forest\n",
    "* K-Nearest Neighbors (KNN)\n",
    "* Naïve Bayes\n",
    "\n",
    "We will apply the same training method to the different models we are going to test and compare their performance."
   ]
  },
  {
   "cell_type": "markdown",
   "id": "8195426f",
   "metadata": {},
   "source": [
    "### 2.1 Splitting the Dataset into Training and Test Sets\n",
    "We use `train_test_split` to divide the data:\n",
    "\n",
    "* 80% for training the model.\n",
    "* 20% for testing its performance.\n",
    "\n",
    "This allows us to measure the model’s ability to generalize."
   ]
  },
  {
   "cell_type": "code",
   "execution_count": null,
   "id": "d256c290",
   "metadata": {},
   "outputs": [],
   "source": [
    "from sklearn.model_selection import train_test_split\n",
    "\n",
    "X_train, X_test, y_train, y_test = train_test_split(X, y, test_size=0.2, random_state=42)"
   ]
  },
  {
   "cell_type": "markdown",
   "id": "dbb23bb3",
   "metadata": {},
   "source": [
    "### 2.2 Training Classification Models\n",
    "\n",
    "**1 - Model Training**\n",
    "\n",
    "The model is created and trained on training data.\n",
    "\n",
    "---\n",
    "\n",
    "**2 - Prediction on the test set**\n",
    "\n",
    "The model makes predictions on the test set to evaluate its performance.\n",
    "\n",
    "--- \n",
    "\n",
    "**3 - Confusion Matrix**\n",
    "\n",
    "Displays a table showing the number of ***correct and incorrect predictions***.\n",
    "\n",
    "* Helps analyze ***classification errors***.\n",
    "* Shows how many ***false positives and false negatives*** are produced.\n",
    "\n",
    "---\n",
    "\n",
    "**4 - Classification Report**\n",
    "\n",
    "Displays the model evaluation metrics with `classification_report()`\n",
    "\n",
    "* ***Precision***: Proportion of true positive predictions.\n",
    "* ***Recall***: Ability to detect all positive classes.\n",
    "* ***F1-score***: Harmonic mean between precision and recall.\n",
    "\n",
    "---\n",
    "\n",
    "**6 - AUC-ROC Score**\n",
    "\n",
    "Calculates the area under the ROC curve, a global indicator of model quality.\n",
    "\n",
    "* The closer the AUC is to ***1***, the better the model.\n",
    "* An AUC of ***0.5*** means the model is ***predicting randomly***.\n",
    "\n",
    "---\n",
    "\n",
    "**7 - ROC curve**\n",
    "\n",
    "Plots the ***ROC curve***, which shows the trade-off between the false positive rate and the true positive rate.\n",
    "\n",
    "* Helps analyze the ***optimal classification threshold***.\n",
    "* A curve close to the top-left corner indicates a ***good model***."
   ]
  },
  {
   "cell_type": "markdown",
   "id": "b27ea226",
   "metadata": {},
   "source": [
    "### 2.3 Applying the Models"
   ]
  },
  {
   "cell_type": "markdown",
   "id": "ad89a671",
   "metadata": {},
   "source": [
    "1. Logistic Regression"
   ]
  },
  {
   "cell_type": "code",
   "execution_count": null,
   "id": "84fe36e6",
   "metadata": {},
   "outputs": [],
   "source": []
  },
  {
   "cell_type": "markdown",
   "id": "852afec5",
   "metadata": {},
   "source": [
    "2. Perceptron"
   ]
  },
  {
   "cell_type": "code",
   "execution_count": null,
   "id": "0377c02b",
   "metadata": {},
   "outputs": [],
   "source": []
  },
  {
   "cell_type": "markdown",
   "id": "4f047748",
   "metadata": {},
   "source": [
    "3. SVM"
   ]
  },
  {
   "cell_type": "code",
   "execution_count": null,
   "id": "554fe66d",
   "metadata": {},
   "outputs": [],
   "source": []
  },
  {
   "cell_type": "markdown",
   "id": "9b94b67f",
   "metadata": {},
   "source": [
    "4. Decision Trees"
   ]
  },
  {
   "cell_type": "code",
   "execution_count": null,
   "id": "7f5c8afd",
   "metadata": {},
   "outputs": [],
   "source": []
  },
  {
   "cell_type": "markdown",
   "id": "d96d8fdb",
   "metadata": {},
   "source": [
    "5. Random Forest"
   ]
  },
  {
   "cell_type": "code",
   "execution_count": null,
   "id": "0a7c67e4",
   "metadata": {},
   "outputs": [],
   "source": []
  },
  {
   "cell_type": "markdown",
   "id": "036e8cf9",
   "metadata": {},
   "source": [
    "6. KNN"
   ]
  },
  {
   "cell_type": "code",
   "execution_count": null,
   "id": "557be0f3",
   "metadata": {},
   "outputs": [],
   "source": []
  },
  {
   "cell_type": "markdown",
   "id": "066ceb34",
   "metadata": {},
   "source": [
    "7. Naïve Bayes"
   ]
  },
  {
   "cell_type": "code",
   "execution_count": null,
   "id": "75680053",
   "metadata": {},
   "outputs": [],
   "source": []
  }
 ],
 "metadata": {
  "kernelspec": {
   "display_name": "Python 3",
   "language": "python",
   "name": "python3"
  },
  "language_info": {
   "codemirror_mode": {
    "name": "ipython",
    "version": 3
   },
   "file_extension": ".py",
   "mimetype": "text/x-python",
   "name": "python",
   "nbconvert_exporter": "python",
   "pygments_lexer": "ipython3",
   "version": "3.11.9"
  }
 },
 "nbformat": 4,
 "nbformat_minor": 5
}
